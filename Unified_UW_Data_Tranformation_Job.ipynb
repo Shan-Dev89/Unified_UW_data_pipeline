{
 "cells": [
  {
   "cell_type": "code",
   "execution_count": 1,
   "metadata": {
    "tags": []
   },
   "outputs": [
    {
     "name": "stdout",
     "output_type": "stream",
     "text": [
      "Welcome to the Glue Interactive Sessions Kernel\n",
      "For more information on available magic commands, please type %help in any new cell.\n",
      "\n",
      "Please view our Getting Started page to access the most up-to-date information on the Interactive Sessions kernel: https://docs.aws.amazon.com/glue/latest/dg/interactive-sessions.html\n",
      "Installed kernel version: 1.0.5 \n",
      "Trying to create a Glue session for the kernel.\n",
      "Session Type: glueetl\n",
      "Session ID: 23410505-3d63-4b94-92a9-8abd1c490df3\n",
      "Applying the following default arguments:\n",
      "--glue_kernel_version 1.0.5\n",
      "--enable-glue-datacatalog true\n",
      "Waiting for session 23410505-3d63-4b94-92a9-8abd1c490df3 to get into ready status...\n",
      "Session 23410505-3d63-4b94-92a9-8abd1c490df3 has been created.\n",
      "\n"
     ]
    }
   ],
   "source": [
    "import sys\n",
    "from awsglue.transforms import *\n",
    "from awsglue.utils import getResolvedOptions\n",
    "from pyspark.context import SparkContext\n",
    "from awsglue.context import GlueContext\n",
    "from awsglue.job import Job\n",
    "from pyspark.sql.functions import explode, col, to_date\n",
    "from datetime import datetime\n",
    "from awsglue.dynamicframe import DynamicFrame"
   ]
  },
  {
   "cell_type": "code",
   "execution_count": 2,
   "metadata": {
    "tags": []
   },
   "outputs": [
    {
     "name": "stdout",
     "output_type": "stream",
     "text": [
      "\n"
     ]
    }
   ],
   "source": [
    "sc = SparkContext.getOrCreate()\n",
    "glueContext = GlueContext(sc)\n",
    "spark = glueContext.spark_session\n",
    "job = Job(glueContext)"
   ]
  },
  {
   "cell_type": "code",
   "execution_count": 3,
   "metadata": {
    "tags": []
   },
   "outputs": [
    {
     "name": "stdout",
     "output_type": "stream",
     "text": [
      "\n"
     ]
    }
   ],
   "source": [
    "s3_path = \"s3://unified-uw-etl-project/raw_data/to_be_processed/\"\n",
    "source_dyf = glueContext.create_dynamic_frame_from_options(\n",
    "    connection_type=\"s3\",\n",
    "    connection_options={\"paths\":[s3_path]},\n",
    "    format=\"json\"\n",
    ")"
   ]
  },
  {
   "cell_type": "code",
   "execution_count": 4,
   "metadata": {
    "tags": []
   },
   "outputs": [
    {
     "name": "stdout",
     "output_type": "stream",
     "text": [
      "/opt/amazon/spark/python/lib/pyspark.zip/pyspark/sql/dataframe.py:127: UserWarning: DataFrame constructor is internal. Do not directly use it.\n"
     ]
    }
   ],
   "source": [
    "uw_df = source_dyf.toDF()"
   ]
  },
  {
   "cell_type": "code",
   "execution_count": 5,
   "metadata": {
    "tags": []
   },
   "outputs": [
    {
     "name": "stdout",
     "output_type": "stream",
     "text": [
      "\n"
     ]
    }
   ],
   "source": [
    "def process_policy(df):\n",
    "    df = df.withColumn(\"items\", explode(\"items\")).select(\n",
    "        col(\"items.policy.id\").alias(\"policy_id\"),\n",
    "        col(\"items.policy.name\").alias(\"policy_name\"),\n",
    "        col(\"items.policy.issue_date\").alias(\"issue_date\"),\n",
    "        col(\"items.policy.sum_assured\").alias(\"sum_assured\"),\n",
    "        col(\"items.policy.policy_status\").alias(\"policy_status\")\n",
    "        col(\"items.policy.uw_comment\").alias(\"uw_comment\")\n",
    "        col(\"items.policy.error_queue\").alias(\"error_queue\")\n",
    "        col(\"items.policy.external_urls.uw\").alias(\"url\")\n",
    "    ).drop_duplicates([\"policy_id\"])\n",
    "    return df\n",
    "\n",
    "    # Convert string dates in 'song_added' to actual date types\n",
    "    df = df.withColumn(\"issue_date\", to_date(col(\"issue_date\")))"
   ]
  },
  {
   "cell_type": "code",
   "execution_count": 6,
   "metadata": {
    "tags": []
   },
   "outputs": [
    {
     "name": "stdout",
     "output_type": "stream",
     "text": [
      "\n"
     ]
    }
   ],
   "source": [
    "def process_customer(df):\n",
    "    \n",
    "    df_customer = df.withColumn(\"items\", explode(\"items\")).select(\n",
    "        col(\"customer.id\").alias(\"customer_id\"),\n",
    "        col(\"customer.name\").alias(\"customer_name\"),\n",
    "        col(\"customer.external_urls.uw\").alias(\"url\")\n",
    "    ).drop_duplicates([\"customer_id\"])\n",
    "    \n",
    "    return df_customer"
   ]
  },
  {
   "cell_type": "code",
   "execution_count": 7,
   "metadata": {
    "tags": []
   },
   "outputs": [
    {
     "name": "stdout",
     "output_type": "stream",
     "text": [
      "\n"
     ]
    }
   ],
   "source": [
    "def process_agent(df):\n",
    "    # Explode the items array to create a row for each song\n",
    "    df_exploded = df.select(explode(col(\"items\")).alias(\"item\"))\n",
    "    \n",
    "    # Extract agent information from the exploded DataFrame\n",
    "    df_agent = df_exploded.select(\n",
    "        col(\"item.agent.id\").alias(\"agent_id\"),\n",
    "        col(\"item.agent.name\").alias(\"agent_name\"),\n",
    "        col(\"item.agent.joining_date\").alias(\"joining_date\"),\n",
    "        col(\"item.agent.external_urls.profile\").alias(\"url\"),\n",
    "        col(\"item.agent.branch\").alias(\"branch\"),\n",
    "        col(\"item.agent.manager\").alias(\"manager\"),\n",
    "        col(\"item.policy.id\").alias(\"policy_id\"),\n",
    "        col(\"customer.id\").alias(\"customer_id\")\n",
    "    ).drop_duplicates([\"agent_id\"])\n",
    "    \n",
    "    # Convert string dates in 'joining_date' to actual date types\n",
    "    df_agent = df_agent.withColumn(\"joining_date\", to_date(col(\"joining_date\")))\n",
    "    \n",
    "    return df_agent"
   ]
  },
  {
   "cell_type": "code",
   "execution_count": 8,
   "metadata": {
    "tags": []
   },
   "outputs": [
    {
     "name": "stdout",
     "output_type": "stream",
     "text": [
      "\n"
     ]
    }
   ],
   "source": [
    "policy_df = process_policy(uw_df)"
   ]
  },
  {
   "cell_type": "code",
   "execution_count": 9,
   "metadata": {
    "tags": []
   },
   "outputs": [
    {
     "name": "stdout",
     "output_type": "stream",
     "text": [
      "\n"
     ]
    }
   ],
   "source": [
    "customer_df = process_customer(uw_df)"
   ]
  },
  {
   "cell_type": "code",
   "execution_count": 10,
   "metadata": {
    "tags": []
   },
   "outputs": [
    {
     "name": "stdout",
     "output_type": "stream",
     "text": [
      "\n"
     ]
    }
   ],
   "source": [
    "agent_df = process_agent(uw_df)"
   ]
  },
  {
   "cell_type": "code",
   "execution_count": 11,
   "metadata": {
    "tags": []
   },
   "outputs": [
    {
     "name": "stdout",
     "output_type": "stream",
     "text": [
      "\n"
     ]
    }
   ],
   "source": [
    "def write_to_s3(df, path_suffix, format_type=\"csv\"):\n",
    "    # Convert back to DynamicFrame\n",
    "    dynamic_frame = DynamicFrame.fromDF(df, glueContext, \"dynamic_frame\")\n",
    "    \n",
    "    glueContext.write_dynamic_frame.from_options(\n",
    "        frame = dynamic_frame,\n",
    "        connection_type = \"s3\",\n",
    "        connection_options = {\"path\": f\"s3://unified-uw-etl-project/transformed_data/{path_suffix}/\"},\n",
    "        format = format_type\n",
    "    )"
   ]
  },
  {
   "cell_type": "code",
   "execution_count": null,
   "metadata": {},
   "outputs": [],
   "source": [
    "#write data to s3   \n",
    "write_to_s3(policy_df, \"policy_data/policy_transformed_{}\".format(datetime.now().strftime(\"%Y-%m-%d\")), \"csv\")\n",
    "\n",
    "write_to_s3(customer_df, \"customer_data/customer_transformed_{}\".format(datetime.now().strftime(\"%Y-%m-%d\")), \"csv\")\n",
    "\n",
    "write_to_s3(agent_df, \"agent_data/agent_transformed_{}\".format(datetime.now().strftime(\"%Y-%m-%d\")), \"csv\")"
   ]
  },
  {
   "cell_type": "code",
   "execution_count": 1,
   "metadata": {
    "tags": []
   },
   "outputs": [
    {
     "name": "stdout",
     "output_type": "stream",
     "text": [
      "Welcome to the Glue Interactive Sessions Kernel\n",
      "For more information on available magic commands, please type %help in any new cell.\n",
      "\n",
      "Please view our Getting Started page to access the most up-to-date information on the Interactive Sessions kernel: https://docs.aws.amazon.com/glue/latest/dg/interactive-sessions.html\n",
      "Installed kernel version: 1.0.5 \n",
      "Trying to create a Glue session for the kernel.\n",
      "Session Type: glueetl\n",
      "Session ID: 437a8ae3-8822-4fbc-be72-e6176db1e02d\n",
      "Applying the following default arguments:\n",
      "--glue_kernel_version 1.0.5\n",
      "--enable-glue-datacatalog true\n",
      "Waiting for session 437a8ae3-8822-4fbc-be72-e6176db1e02d to get into ready status...\n",
      "Session 437a8ae3-8822-4fbc-be72-e6176db1e02d has been created.\n",
      "\n"
     ]
    }
   ],
   "source": [
    "import boto3"
   ]
  },
  {
   "cell_type": "code",
   "execution_count": 3,
   "metadata": {
    "tags": []
   },
   "outputs": [
    {
     "name": "stdout",
     "output_type": "stream",
     "text": [
      "\n"
     ]
    }
   ],
   "source": [
    "def list_s3_objects(bucket, prefix):\n",
    "    s3_client = boto3.client('s3')\n",
    "    response = s3_client.list_objects_v2(Bucket=bucket, Prefix=prefix)\n",
    "    keys = [content['Key'] for content in response.get('Contents', []) if content['Key'].endswith('.json')]\n",
    "    return keys\n",
    "\n",
    "bucket_name = \"unified-uw-etl-project\"\n",
    "prefix = \"raw_data/to_be_processed/\"\n",
    "Unified_UW_keys = list_s3_objects(bucket_name, prefix)"
   ]
  },
  {
   "cell_type": "code",
   "execution_count": null,
   "metadata": {},
   "outputs": [],
   "source": [
    "def move_and_delete_files(Unified_UW_keys, Bucket):\n",
    "    s3_resource = boto3.resource('s3')\n",
    "    \n",
    "    # Loop through each key in the spotify_keys list\n",
    "    for key in Unified_UW_keys:\n",
    "        copy_source = {\n",
    "            'Bucket': Bucket,\n",
    "            'Key': key  # key is defined here in the loop\n",
    "        }\n",
    "\n",
    "        # Define the destination key, ensuring 'key' is used within the loop\n",
    "        destination_key = 'raw_data/processed/' + key.split('/')[-1]\n",
    "\n",
    "        # Copy the file to the destination\n",
    "        s3_resource.meta.client.copy(copy_source, Bucket, destination_key)\n",
    "\n",
    "        # Delete the original file\n",
    "        s3_resource.Object(Bucket, key).delete()\n",
    "\n",
    "# Call the function to move and delete files\n",
    "move_and_delete_files(Unified_UW_keys, bucket_name)\n",
    "\n",
    "# Commit the job after the file move/delete operation\n",
    "job.commit()"
   ]
  }
 ],
 "metadata": {
  "kernelspec": {
   "display_name": "Python 3 (ipykernel)",
   "language": "python",
   "name": "python3"
  },
  "language_info": {
   "codemirror_mode": {
    "name": "ipython",
    "version": 3
   },
   "file_extension": ".py",
   "mimetype": "text/x-python",
   "name": "python",
   "nbconvert_exporter": "python",
   "pygments_lexer": "ipython3",
   "version": "3.11.5"
  }
 },
 "nbformat": 4,
 "nbformat_minor": 4
}
