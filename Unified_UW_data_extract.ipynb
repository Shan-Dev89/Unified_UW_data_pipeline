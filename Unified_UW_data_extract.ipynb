{
 "cells": [
  {
   "cell_type": "code",
   "execution_count": null,
   "id": "31dc0c72",
   "metadata": {},
   "outputs": [],
   "source": [
    "import json\n",
    "import os\n",
    "import requests\n",
    "import boto3\n",
    "from datetime import datetime\n",
    "from requests.auth import HTTPBasicAuth\n",
    "\n",
    "def lambda_handler(event, context):\n",
    "    # Fetch credentials from environment variables\n",
    "    client_id = os.environ.get('client_id')\n",
    "    client_secret = os.environ.get('client_secret')\n",
    "    \n",
    "    # Define the API URL (change this to the actual API endpoint)\n",
    "    uw_queue_link = \"https://uwlksdjfa/1234\"\n",
    "\n",
    "    # Make the GET request with Basic Authentication\n",
    "    uw_response = requests.get(uw_queue_link, auth=HTTPBasicAuth(client_id, client_secret))\n",
    "    \n",
    "    # Check if the request was successful\n",
    "    if uw_response.status_code == 200:\n",
    "        # Parse the JSON response if it returns JSON data\n",
    "        uw_queue_data = uw_response.json()\n",
    "    else:\n",
    "        # Log the error and raise an exception if the request failed\n",
    "        print(f\"Failed to fetch data. Status code: {uw_response.status_code}\")\n",
    "        raise Exception(f\"API request failed with status code {uw_response.status_code}\")\n",
    "\n",
    "    # Upload the data to S3 bucket\n",
    "    client = boto3.client('s3')\n",
    "    file_name = \"UW_raw_\" + str(datetime.now()) + \".json\"\n",
    "    \n",
    "    # Put the data into the S3 bucket\n",
    "    client.put_object(\n",
    "        Bucket=\"unified-uw-etl-project\",\n",
    "        Key=\"raw_data/to_be_processed/\" + file_name,\n",
    "        Body=json.dumps(uw_queue_data)\n",
    "    )\n",
    "    \n",
    "    # Start the AWS Glue job\n",
    "    glue = boto3.client(\"glue\")\n",
    "    gluejobname = \"Unified_UW_Data_Tranformation_Job\"\n",
    "    \n",
    "    try:\n",
    "        runId = glue.start_job_run(JobName=gluejobname)\n",
    "        status = glue.get_job_run(JobName=gluejobname, RunId=runId['JobRunId'])\n",
    "        print(\"Job Status : \", status['JobRun']['JobRunState'])\n",
    "    except Exception as e:\n",
    "        print(e)\n",
    "\n"
   ]
  }
 ],
 "metadata": {
  "kernelspec": {
   "display_name": "Python 3 (ipykernel)",
   "language": "python",
   "name": "python3"
  },
  "language_info": {
   "codemirror_mode": {
    "name": "ipython",
    "version": 3
   },
   "file_extension": ".py",
   "mimetype": "text/x-python",
   "name": "python",
   "nbconvert_exporter": "python",
   "pygments_lexer": "ipython3",
   "version": "3.11.5"
  }
 },
 "nbformat": 4,
 "nbformat_minor": 5
}
